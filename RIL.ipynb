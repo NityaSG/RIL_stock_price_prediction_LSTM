{
  "nbformat": 4,
  "nbformat_minor": 0,
  "metadata": {
    "colab": {
      "provenance": [],
      "authorship_tag": "ABX9TyN2Fn1hMyXCzuLCnn7AwFsh",
      "include_colab_link": true
    },
    "kernelspec": {
      "name": "python3",
      "display_name": "Python 3"
    },
    "language_info": {
      "name": "python"
    }
  },
  "cells": [
    {
      "cell_type": "markdown",
      "metadata": {
        "id": "view-in-github",
        "colab_type": "text"
      },
      "source": [
        "<a href=\"https://colab.research.google.com/github/NityaSG/RIL_stock_price_prediction_LSTM/blob/main/RIL.ipynb\" target=\"_parent\"><img src=\"https://colab.research.google.com/assets/colab-badge.svg\" alt=\"Open In Colab\"/></a>"
      ]
    },
    {
      "cell_type": "code",
      "source": [
        "import pandas as pd\n",
        "import numpy as np"
      ],
      "metadata": {
        "id": "CKDru7-Cvlia"
      },
      "execution_count": 2,
      "outputs": []
    },
    {
      "cell_type": "markdown",
      "source": [
        "# Stock Market price prediction using LSTM\n",
        "### on reliance industries (RIL) NSE data.\n",
        "\n",
        "Nitya Singh\n",
        "\n",
        "nityasingh030301@gmail.com\n",
        " "
      ],
      "metadata": {
        "id": "a6FYH-RDBNvY"
      }
    },
    {
      "cell_type": "code",
      "execution_count": 1,
      "metadata": {
        "colab": {
          "base_uri": "https://localhost:8080/",
          "height": 56
        },
        "id": "RdaDJJwwuJ8m",
        "outputId": "5df6f089-c0e7-439f-eb56-8fa352791fcb"
      },
      "outputs": [
        {
          "output_type": "display_data",
          "data": {
            "text/plain": [
              "<IPython.core.display.HTML object>"
            ],
            "text/html": [
              "\n",
              "     <input type=\"file\" id=\"files-efa7aba6-a677-4b95-927b-cb624e6c1767\" name=\"files[]\" multiple disabled\n",
              "        style=\"border:none\" />\n",
              "     <output id=\"result-efa7aba6-a677-4b95-927b-cb624e6c1767\">\n",
              "      Upload widget is only available when the cell has been executed in the\n",
              "      current browser session. Please rerun this cell to enable.\n",
              "      </output>\n",
              "      <script>// Copyright 2017 Google LLC\n",
              "//\n",
              "// Licensed under the Apache License, Version 2.0 (the \"License\");\n",
              "// you may not use this file except in compliance with the License.\n",
              "// You may obtain a copy of the License at\n",
              "//\n",
              "//      http://www.apache.org/licenses/LICENSE-2.0\n",
              "//\n",
              "// Unless required by applicable law or agreed to in writing, software\n",
              "// distributed under the License is distributed on an \"AS IS\" BASIS,\n",
              "// WITHOUT WARRANTIES OR CONDITIONS OF ANY KIND, either express or implied.\n",
              "// See the License for the specific language governing permissions and\n",
              "// limitations under the License.\n",
              "\n",
              "/**\n",
              " * @fileoverview Helpers for google.colab Python module.\n",
              " */\n",
              "(function(scope) {\n",
              "function span(text, styleAttributes = {}) {\n",
              "  const element = document.createElement('span');\n",
              "  element.textContent = text;\n",
              "  for (const key of Object.keys(styleAttributes)) {\n",
              "    element.style[key] = styleAttributes[key];\n",
              "  }\n",
              "  return element;\n",
              "}\n",
              "\n",
              "// Max number of bytes which will be uploaded at a time.\n",
              "const MAX_PAYLOAD_SIZE = 100 * 1024;\n",
              "\n",
              "function _uploadFiles(inputId, outputId) {\n",
              "  const steps = uploadFilesStep(inputId, outputId);\n",
              "  const outputElement = document.getElementById(outputId);\n",
              "  // Cache steps on the outputElement to make it available for the next call\n",
              "  // to uploadFilesContinue from Python.\n",
              "  outputElement.steps = steps;\n",
              "\n",
              "  return _uploadFilesContinue(outputId);\n",
              "}\n",
              "\n",
              "// This is roughly an async generator (not supported in the browser yet),\n",
              "// where there are multiple asynchronous steps and the Python side is going\n",
              "// to poll for completion of each step.\n",
              "// This uses a Promise to block the python side on completion of each step,\n",
              "// then passes the result of the previous step as the input to the next step.\n",
              "function _uploadFilesContinue(outputId) {\n",
              "  const outputElement = document.getElementById(outputId);\n",
              "  const steps = outputElement.steps;\n",
              "\n",
              "  const next = steps.next(outputElement.lastPromiseValue);\n",
              "  return Promise.resolve(next.value.promise).then((value) => {\n",
              "    // Cache the last promise value to make it available to the next\n",
              "    // step of the generator.\n",
              "    outputElement.lastPromiseValue = value;\n",
              "    return next.value.response;\n",
              "  });\n",
              "}\n",
              "\n",
              "/**\n",
              " * Generator function which is called between each async step of the upload\n",
              " * process.\n",
              " * @param {string} inputId Element ID of the input file picker element.\n",
              " * @param {string} outputId Element ID of the output display.\n",
              " * @return {!Iterable<!Object>} Iterable of next steps.\n",
              " */\n",
              "function* uploadFilesStep(inputId, outputId) {\n",
              "  const inputElement = document.getElementById(inputId);\n",
              "  inputElement.disabled = false;\n",
              "\n",
              "  const outputElement = document.getElementById(outputId);\n",
              "  outputElement.innerHTML = '';\n",
              "\n",
              "  const pickedPromise = new Promise((resolve) => {\n",
              "    inputElement.addEventListener('change', (e) => {\n",
              "      resolve(e.target.files);\n",
              "    });\n",
              "  });\n",
              "\n",
              "  const cancel = document.createElement('button');\n",
              "  inputElement.parentElement.appendChild(cancel);\n",
              "  cancel.textContent = 'Cancel upload';\n",
              "  const cancelPromise = new Promise((resolve) => {\n",
              "    cancel.onclick = () => {\n",
              "      resolve(null);\n",
              "    };\n",
              "  });\n",
              "\n",
              "  // Wait for the user to pick the files.\n",
              "  const files = yield {\n",
              "    promise: Promise.race([pickedPromise, cancelPromise]),\n",
              "    response: {\n",
              "      action: 'starting',\n",
              "    }\n",
              "  };\n",
              "\n",
              "  cancel.remove();\n",
              "\n",
              "  // Disable the input element since further picks are not allowed.\n",
              "  inputElement.disabled = true;\n",
              "\n",
              "  if (!files) {\n",
              "    return {\n",
              "      response: {\n",
              "        action: 'complete',\n",
              "      }\n",
              "    };\n",
              "  }\n",
              "\n",
              "  for (const file of files) {\n",
              "    const li = document.createElement('li');\n",
              "    li.append(span(file.name, {fontWeight: 'bold'}));\n",
              "    li.append(span(\n",
              "        `(${file.type || 'n/a'}) - ${file.size} bytes, ` +\n",
              "        `last modified: ${\n",
              "            file.lastModifiedDate ? file.lastModifiedDate.toLocaleDateString() :\n",
              "                                    'n/a'} - `));\n",
              "    const percent = span('0% done');\n",
              "    li.appendChild(percent);\n",
              "\n",
              "    outputElement.appendChild(li);\n",
              "\n",
              "    const fileDataPromise = new Promise((resolve) => {\n",
              "      const reader = new FileReader();\n",
              "      reader.onload = (e) => {\n",
              "        resolve(e.target.result);\n",
              "      };\n",
              "      reader.readAsArrayBuffer(file);\n",
              "    });\n",
              "    // Wait for the data to be ready.\n",
              "    let fileData = yield {\n",
              "      promise: fileDataPromise,\n",
              "      response: {\n",
              "        action: 'continue',\n",
              "      }\n",
              "    };\n",
              "\n",
              "    // Use a chunked sending to avoid message size limits. See b/62115660.\n",
              "    let position = 0;\n",
              "    do {\n",
              "      const length = Math.min(fileData.byteLength - position, MAX_PAYLOAD_SIZE);\n",
              "      const chunk = new Uint8Array(fileData, position, length);\n",
              "      position += length;\n",
              "\n",
              "      const base64 = btoa(String.fromCharCode.apply(null, chunk));\n",
              "      yield {\n",
              "        response: {\n",
              "          action: 'append',\n",
              "          file: file.name,\n",
              "          data: base64,\n",
              "        },\n",
              "      };\n",
              "\n",
              "      let percentDone = fileData.byteLength === 0 ?\n",
              "          100 :\n",
              "          Math.round((position / fileData.byteLength) * 100);\n",
              "      percent.textContent = `${percentDone}% done`;\n",
              "\n",
              "    } while (position < fileData.byteLength);\n",
              "  }\n",
              "\n",
              "  // All done.\n",
              "  yield {\n",
              "    response: {\n",
              "      action: 'complete',\n",
              "    }\n",
              "  };\n",
              "}\n",
              "\n",
              "scope.google = scope.google || {};\n",
              "scope.google.colab = scope.google.colab || {};\n",
              "scope.google.colab._files = {\n",
              "  _uploadFiles,\n",
              "  _uploadFilesContinue,\n",
              "};\n",
              "})(self);\n",
              "</script> "
            ]
          },
          "metadata": {}
        },
        {
          "output_type": "stream",
          "name": "stdout",
          "text": [
            "Saving RELIANCE.csv to RELIANCE.csv\n"
          ]
        }
      ],
      "source": [
        "from google.colab import files\n",
        "uploaded = files.upload()"
      ]
    },
    {
      "cell_type": "markdown",
      "source": [
        "## Importing data set \n",
        "The dimension of the the training_set is reduced to hold only 'Open' column of the data set"
      ],
      "metadata": {
        "id": "dYDqAgzvFHfZ"
      }
    },
    {
      "cell_type": "code",
      "source": [
        "train = pd.read_csv('RELIANCE.csv')\n",
        "#keras only takes numpy array\n",
        "training_set = train.iloc[:, 1: 2].values"
      ],
      "metadata": {
        "id": "3btrbWHfwvG5"
      },
      "execution_count": 3,
      "outputs": []
    },
    {
      "cell_type": "markdown",
      "source": [
        "### Scaling down the data to a value in [0,1]"
      ],
      "metadata": {
        "id": "RwbcOJUdF5IF"
      }
    },
    {
      "cell_type": "code",
      "source": [
        "from sklearn.preprocessing import MinMaxScaler\n",
        "sc = MinMaxScaler(feature_range = (0, 1))\n",
        "training_set_scaled = sc.fit_transform(training_set)"
      ],
      "metadata": {
        "id": "aYZ8e5xx7WPJ"
      },
      "execution_count": 4,
      "outputs": []
    },
    {
      "cell_type": "markdown",
      "source": [
        "### Creating training set and target set.\n",
        "Training set contains 60 days of data \n",
        "Target data is the trading day after the 60 days"
      ],
      "metadata": {
        "id": "kxtYHtS1Fc3L"
      }
    },
    {
      "cell_type": "code",
      "source": [
        "X_train = []\n",
        "y_train = []\n",
        "for i in range(60, len(training_set_scaled)):\n",
        "    X_train.append(training_set_scaled[i-60:i, 0])\n",
        "    y_train.append(training_set_scaled[i, 0])\n",
        "X_train, y_train = np.array(X_train), np.array(y_train)\n",
        "\n",
        "X_train = np.reshape(X_train, (X_train.shape[0], X_train.shape[1], 1))"
      ],
      "metadata": {
        "id": "7pyzvrcuJjLD"
      },
      "execution_count": 5,
      "outputs": []
    },
    {
      "cell_type": "code",
      "source": [
        "from keras.models import Sequential\n",
        "from keras.layers import Dense\n",
        "from keras.layers import LSTM\n",
        "from keras.layers import Dropout"
      ],
      "metadata": {
        "id": "ATCmxBT7KDyC"
      },
      "execution_count": 6,
      "outputs": []
    },
    {
      "cell_type": "markdown",
      "source": [
        "### Defining the model"
      ],
      "metadata": {
        "id": "oYNMTgUbGjY7"
      }
    },
    {
      "cell_type": "code",
      "source": [
        "\n",
        "regressor = Sequential()\n",
        "\n",
        "regressor.add(LSTM(units = 50, return_sequences = True, input_shape = (X_train.shape[1], 1)))\n",
        "regressor.add(Dropout(0.2))\n",
        "\n",
        "regressor.add(LSTM(units = 50, return_sequences = True))\n",
        "regressor.add(Dropout(0.2))\n",
        "\n",
        "regressor.add(LSTM(units = 50, return_sequences = True))\n",
        "regressor.add(Dropout(0.2))\n",
        "\n",
        "regressor.add(LSTM(units = 50))\n",
        "regressor.add(Dropout(0.2))\n",
        "\n",
        "regressor.add(Dense(units = 1))\n",
        "\n",
        "regressor.compile(optimizer = 'adam', loss = 'mean_squared_error')\n",
        "\n",
        "regressor.fit(X_train, y_train, epochs = 80, batch_size = 32)"
      ],
      "metadata": {
        "colab": {
          "base_uri": "https://localhost:8080/"
        },
        "id": "yChtRVrRMTVK",
        "outputId": "07bb28d4-ae61-4ba4-c3ed-1b271a10dca1"
      },
      "execution_count": 7,
      "outputs": [
        {
          "output_type": "stream",
          "name": "stdout",
          "text": [
            "Epoch 1/80\n",
            "35/35 [==============================] - 12s 120ms/step - loss: 0.0442\n",
            "Epoch 2/80\n",
            "35/35 [==============================] - 4s 116ms/step - loss: 0.0075\n",
            "Epoch 3/80\n",
            "35/35 [==============================] - 4s 115ms/step - loss: 0.0063\n",
            "Epoch 4/80\n",
            "35/35 [==============================] - 4s 112ms/step - loss: 0.0061\n",
            "Epoch 5/80\n",
            "35/35 [==============================] - 4s 123ms/step - loss: 0.0057\n",
            "Epoch 6/80\n",
            "35/35 [==============================] - 4s 115ms/step - loss: 0.0057\n",
            "Epoch 7/80\n",
            "35/35 [==============================] - 4s 114ms/step - loss: 0.0054\n",
            "Epoch 8/80\n",
            "35/35 [==============================] - 4s 117ms/step - loss: 0.0048\n",
            "Epoch 9/80\n",
            "35/35 [==============================] - 4s 116ms/step - loss: 0.0052\n",
            "Epoch 10/80\n",
            "35/35 [==============================] - 4s 113ms/step - loss: 0.0051\n",
            "Epoch 11/80\n",
            "35/35 [==============================] - 4s 115ms/step - loss: 0.0044\n",
            "Epoch 12/80\n",
            "35/35 [==============================] - 4s 113ms/step - loss: 0.0051\n",
            "Epoch 13/80\n",
            "35/35 [==============================] - 4s 114ms/step - loss: 0.0044\n",
            "Epoch 14/80\n",
            "35/35 [==============================] - 4s 114ms/step - loss: 0.0035\n",
            "Epoch 15/80\n",
            "35/35 [==============================] - 4s 112ms/step - loss: 0.0041\n",
            "Epoch 16/80\n",
            "35/35 [==============================] - 4s 116ms/step - loss: 0.0044\n",
            "Epoch 17/80\n",
            "35/35 [==============================] - 4s 116ms/step - loss: 0.0041\n",
            "Epoch 18/80\n",
            "35/35 [==============================] - 4s 116ms/step - loss: 0.0042\n",
            "Epoch 19/80\n",
            "35/35 [==============================] - 4s 114ms/step - loss: 0.0040\n",
            "Epoch 20/80\n",
            "35/35 [==============================] - 4s 114ms/step - loss: 0.0039\n",
            "Epoch 21/80\n",
            "35/35 [==============================] - 4s 117ms/step - loss: 0.0044\n",
            "Epoch 22/80\n",
            "35/35 [==============================] - 5s 137ms/step - loss: 0.0036\n",
            "Epoch 23/80\n",
            "35/35 [==============================] - 4s 117ms/step - loss: 0.0036\n",
            "Epoch 24/80\n",
            "35/35 [==============================] - 4s 117ms/step - loss: 0.0034\n",
            "Epoch 25/80\n",
            "35/35 [==============================] - 4s 116ms/step - loss: 0.0034\n",
            "Epoch 26/80\n",
            "35/35 [==============================] - 4s 123ms/step - loss: 0.0035\n",
            "Epoch 27/80\n",
            "35/35 [==============================] - 5s 125ms/step - loss: 0.0031\n",
            "Epoch 28/80\n",
            "35/35 [==============================] - 4s 123ms/step - loss: 0.0039\n",
            "Epoch 29/80\n",
            "35/35 [==============================] - 5s 154ms/step - loss: 0.0031\n",
            "Epoch 30/80\n",
            "35/35 [==============================] - 4s 116ms/step - loss: 0.0030\n",
            "Epoch 31/80\n",
            "35/35 [==============================] - 4s 117ms/step - loss: 0.0030\n",
            "Epoch 32/80\n",
            "35/35 [==============================] - 4s 118ms/step - loss: 0.0030\n",
            "Epoch 33/80\n",
            "35/35 [==============================] - 4s 117ms/step - loss: 0.0030\n",
            "Epoch 34/80\n",
            "35/35 [==============================] - 4s 115ms/step - loss: 0.0027\n",
            "Epoch 35/80\n",
            "35/35 [==============================] - 4s 114ms/step - loss: 0.0029\n",
            "Epoch 36/80\n",
            "35/35 [==============================] - 4s 115ms/step - loss: 0.0035\n",
            "Epoch 37/80\n",
            "35/35 [==============================] - 4s 116ms/step - loss: 0.0029\n",
            "Epoch 38/80\n",
            "35/35 [==============================] - 4s 117ms/step - loss: 0.0026\n",
            "Epoch 39/80\n",
            "35/35 [==============================] - 4s 118ms/step - loss: 0.0027\n",
            "Epoch 40/80\n",
            "35/35 [==============================] - 4s 116ms/step - loss: 0.0029\n",
            "Epoch 41/80\n",
            "35/35 [==============================] - 4s 114ms/step - loss: 0.0031\n",
            "Epoch 42/80\n",
            "35/35 [==============================] - 7s 213ms/step - loss: 0.0026\n",
            "Epoch 43/80\n",
            "35/35 [==============================] - 4s 120ms/step - loss: 0.0028\n",
            "Epoch 44/80\n",
            "35/35 [==============================] - 4s 112ms/step - loss: 0.0026\n",
            "Epoch 45/80\n",
            "35/35 [==============================] - 4s 113ms/step - loss: 0.0024\n",
            "Epoch 46/80\n",
            "35/35 [==============================] - 4s 116ms/step - loss: 0.0028\n",
            "Epoch 47/80\n",
            "35/35 [==============================] - 4s 116ms/step - loss: 0.0030\n",
            "Epoch 48/80\n",
            "35/35 [==============================] - 4s 115ms/step - loss: 0.0025\n",
            "Epoch 49/80\n",
            "35/35 [==============================] - 4s 115ms/step - loss: 0.0027\n",
            "Epoch 50/80\n",
            "35/35 [==============================] - 4s 117ms/step - loss: 0.0024\n",
            "Epoch 51/80\n",
            "35/35 [==============================] - 4s 120ms/step - loss: 0.0025\n",
            "Epoch 52/80\n",
            "35/35 [==============================] - 4s 117ms/step - loss: 0.0023\n",
            "Epoch 53/80\n",
            "35/35 [==============================] - 4s 115ms/step - loss: 0.0021\n",
            "Epoch 54/80\n",
            "35/35 [==============================] - 4s 114ms/step - loss: 0.0023\n",
            "Epoch 55/80\n",
            "35/35 [==============================] - 4s 117ms/step - loss: 0.0026\n",
            "Epoch 56/80\n",
            "35/35 [==============================] - 4s 117ms/step - loss: 0.0023\n",
            "Epoch 57/80\n",
            "35/35 [==============================] - 4s 116ms/step - loss: 0.0023\n",
            "Epoch 58/80\n",
            "35/35 [==============================] - 4s 117ms/step - loss: 0.0021\n",
            "Epoch 59/80\n",
            "35/35 [==============================] - 4s 118ms/step - loss: 0.0023\n",
            "Epoch 60/80\n",
            "35/35 [==============================] - 4s 117ms/step - loss: 0.0022\n",
            "Epoch 61/80\n",
            "35/35 [==============================] - 4s 120ms/step - loss: 0.0021\n",
            "Epoch 62/80\n",
            "35/35 [==============================] - 5s 141ms/step - loss: 0.0021\n",
            "Epoch 63/80\n",
            "35/35 [==============================] - 4s 122ms/step - loss: 0.0020\n",
            "Epoch 64/80\n",
            "35/35 [==============================] - 4s 115ms/step - loss: 0.0023\n",
            "Epoch 65/80\n",
            "35/35 [==============================] - 4s 114ms/step - loss: 0.0024\n",
            "Epoch 66/80\n",
            "35/35 [==============================] - 5s 135ms/step - loss: 0.0019\n",
            "Epoch 67/80\n",
            "35/35 [==============================] - 4s 120ms/step - loss: 0.0019\n",
            "Epoch 68/80\n",
            "35/35 [==============================] - 4s 115ms/step - loss: 0.0023\n",
            "Epoch 69/80\n",
            "35/35 [==============================] - 4s 117ms/step - loss: 0.0022\n",
            "Epoch 70/80\n",
            "35/35 [==============================] - 4s 116ms/step - loss: 0.0019\n",
            "Epoch 71/80\n",
            "35/35 [==============================] - 4s 117ms/step - loss: 0.0020\n",
            "Epoch 72/80\n",
            "35/35 [==============================] - 4s 115ms/step - loss: 0.0020\n",
            "Epoch 73/80\n",
            "35/35 [==============================] - 4s 116ms/step - loss: 0.0019\n",
            "Epoch 74/80\n",
            "35/35 [==============================] - 4s 117ms/step - loss: 0.0021\n",
            "Epoch 75/80\n",
            "35/35 [==============================] - 4s 119ms/step - loss: 0.0019\n",
            "Epoch 76/80\n",
            "35/35 [==============================] - 4s 117ms/step - loss: 0.0018\n",
            "Epoch 77/80\n",
            "35/35 [==============================] - 4s 117ms/step - loss: 0.0020\n",
            "Epoch 78/80\n",
            "35/35 [==============================] - 4s 119ms/step - loss: 0.0020\n",
            "Epoch 79/80\n",
            "35/35 [==============================] - 4s 119ms/step - loss: 0.0019\n",
            "Epoch 80/80\n",
            "35/35 [==============================] - 7s 201ms/step - loss: 0.0017\n"
          ]
        },
        {
          "output_type": "execute_result",
          "data": {
            "text/plain": [
              "<keras.callbacks.History at 0x7f24ee8b8fd0>"
            ]
          },
          "metadata": {},
          "execution_count": 7
        }
      ]
    },
    {
      "cell_type": "markdown",
      "source": [
        "### Uploading the test data \n",
        "Last 60 days values of the stock on which the model was not trained.\n",
        "\n",
        "The values are sequential to the training dataset."
      ],
      "metadata": {
        "id": "AMZ3YWM6GqZu"
      }
    },
    {
      "cell_type": "code",
      "source": [
        "uploadd = files.upload()"
      ],
      "metadata": {
        "colab": {
          "base_uri": "https://localhost:8080/",
          "height": 73
        },
        "id": "XfmpL-zPMXvU",
        "outputId": "893df1e2-af35-4bc2-c142-0d70e098583d"
      },
      "execution_count": 8,
      "outputs": [
        {
          "output_type": "display_data",
          "data": {
            "text/plain": [
              "<IPython.core.display.HTML object>"
            ],
            "text/html": [
              "\n",
              "     <input type=\"file\" id=\"files-6945ab0d-b21c-4b0b-9e97-791315b7c607\" name=\"files[]\" multiple disabled\n",
              "        style=\"border:none\" />\n",
              "     <output id=\"result-6945ab0d-b21c-4b0b-9e97-791315b7c607\">\n",
              "      Upload widget is only available when the cell has been executed in the\n",
              "      current browser session. Please rerun this cell to enable.\n",
              "      </output>\n",
              "      <script>// Copyright 2017 Google LLC\n",
              "//\n",
              "// Licensed under the Apache License, Version 2.0 (the \"License\");\n",
              "// you may not use this file except in compliance with the License.\n",
              "// You may obtain a copy of the License at\n",
              "//\n",
              "//      http://www.apache.org/licenses/LICENSE-2.0\n",
              "//\n",
              "// Unless required by applicable law or agreed to in writing, software\n",
              "// distributed under the License is distributed on an \"AS IS\" BASIS,\n",
              "// WITHOUT WARRANTIES OR CONDITIONS OF ANY KIND, either express or implied.\n",
              "// See the License for the specific language governing permissions and\n",
              "// limitations under the License.\n",
              "\n",
              "/**\n",
              " * @fileoverview Helpers for google.colab Python module.\n",
              " */\n",
              "(function(scope) {\n",
              "function span(text, styleAttributes = {}) {\n",
              "  const element = document.createElement('span');\n",
              "  element.textContent = text;\n",
              "  for (const key of Object.keys(styleAttributes)) {\n",
              "    element.style[key] = styleAttributes[key];\n",
              "  }\n",
              "  return element;\n",
              "}\n",
              "\n",
              "// Max number of bytes which will be uploaded at a time.\n",
              "const MAX_PAYLOAD_SIZE = 100 * 1024;\n",
              "\n",
              "function _uploadFiles(inputId, outputId) {\n",
              "  const steps = uploadFilesStep(inputId, outputId);\n",
              "  const outputElement = document.getElementById(outputId);\n",
              "  // Cache steps on the outputElement to make it available for the next call\n",
              "  // to uploadFilesContinue from Python.\n",
              "  outputElement.steps = steps;\n",
              "\n",
              "  return _uploadFilesContinue(outputId);\n",
              "}\n",
              "\n",
              "// This is roughly an async generator (not supported in the browser yet),\n",
              "// where there are multiple asynchronous steps and the Python side is going\n",
              "// to poll for completion of each step.\n",
              "// This uses a Promise to block the python side on completion of each step,\n",
              "// then passes the result of the previous step as the input to the next step.\n",
              "function _uploadFilesContinue(outputId) {\n",
              "  const outputElement = document.getElementById(outputId);\n",
              "  const steps = outputElement.steps;\n",
              "\n",
              "  const next = steps.next(outputElement.lastPromiseValue);\n",
              "  return Promise.resolve(next.value.promise).then((value) => {\n",
              "    // Cache the last promise value to make it available to the next\n",
              "    // step of the generator.\n",
              "    outputElement.lastPromiseValue = value;\n",
              "    return next.value.response;\n",
              "  });\n",
              "}\n",
              "\n",
              "/**\n",
              " * Generator function which is called between each async step of the upload\n",
              " * process.\n",
              " * @param {string} inputId Element ID of the input file picker element.\n",
              " * @param {string} outputId Element ID of the output display.\n",
              " * @return {!Iterable<!Object>} Iterable of next steps.\n",
              " */\n",
              "function* uploadFilesStep(inputId, outputId) {\n",
              "  const inputElement = document.getElementById(inputId);\n",
              "  inputElement.disabled = false;\n",
              "\n",
              "  const outputElement = document.getElementById(outputId);\n",
              "  outputElement.innerHTML = '';\n",
              "\n",
              "  const pickedPromise = new Promise((resolve) => {\n",
              "    inputElement.addEventListener('change', (e) => {\n",
              "      resolve(e.target.files);\n",
              "    });\n",
              "  });\n",
              "\n",
              "  const cancel = document.createElement('button');\n",
              "  inputElement.parentElement.appendChild(cancel);\n",
              "  cancel.textContent = 'Cancel upload';\n",
              "  const cancelPromise = new Promise((resolve) => {\n",
              "    cancel.onclick = () => {\n",
              "      resolve(null);\n",
              "    };\n",
              "  });\n",
              "\n",
              "  // Wait for the user to pick the files.\n",
              "  const files = yield {\n",
              "    promise: Promise.race([pickedPromise, cancelPromise]),\n",
              "    response: {\n",
              "      action: 'starting',\n",
              "    }\n",
              "  };\n",
              "\n",
              "  cancel.remove();\n",
              "\n",
              "  // Disable the input element since further picks are not allowed.\n",
              "  inputElement.disabled = true;\n",
              "\n",
              "  if (!files) {\n",
              "    return {\n",
              "      response: {\n",
              "        action: 'complete',\n",
              "      }\n",
              "    };\n",
              "  }\n",
              "\n",
              "  for (const file of files) {\n",
              "    const li = document.createElement('li');\n",
              "    li.append(span(file.name, {fontWeight: 'bold'}));\n",
              "    li.append(span(\n",
              "        `(${file.type || 'n/a'}) - ${file.size} bytes, ` +\n",
              "        `last modified: ${\n",
              "            file.lastModifiedDate ? file.lastModifiedDate.toLocaleDateString() :\n",
              "                                    'n/a'} - `));\n",
              "    const percent = span('0% done');\n",
              "    li.appendChild(percent);\n",
              "\n",
              "    outputElement.appendChild(li);\n",
              "\n",
              "    const fileDataPromise = new Promise((resolve) => {\n",
              "      const reader = new FileReader();\n",
              "      reader.onload = (e) => {\n",
              "        resolve(e.target.result);\n",
              "      };\n",
              "      reader.readAsArrayBuffer(file);\n",
              "    });\n",
              "    // Wait for the data to be ready.\n",
              "    let fileData = yield {\n",
              "      promise: fileDataPromise,\n",
              "      response: {\n",
              "        action: 'continue',\n",
              "      }\n",
              "    };\n",
              "\n",
              "    // Use a chunked sending to avoid message size limits. See b/62115660.\n",
              "    let position = 0;\n",
              "    do {\n",
              "      const length = Math.min(fileData.byteLength - position, MAX_PAYLOAD_SIZE);\n",
              "      const chunk = new Uint8Array(fileData, position, length);\n",
              "      position += length;\n",
              "\n",
              "      const base64 = btoa(String.fromCharCode.apply(null, chunk));\n",
              "      yield {\n",
              "        response: {\n",
              "          action: 'append',\n",
              "          file: file.name,\n",
              "          data: base64,\n",
              "        },\n",
              "      };\n",
              "\n",
              "      let percentDone = fileData.byteLength === 0 ?\n",
              "          100 :\n",
              "          Math.round((position / fileData.byteLength) * 100);\n",
              "      percent.textContent = `${percentDone}% done`;\n",
              "\n",
              "    } while (position < fileData.byteLength);\n",
              "  }\n",
              "\n",
              "  // All done.\n",
              "  yield {\n",
              "    response: {\n",
              "      action: 'complete',\n",
              "    }\n",
              "  };\n",
              "}\n",
              "\n",
              "scope.google = scope.google || {};\n",
              "scope.google.colab = scope.google.colab || {};\n",
              "scope.google.colab._files = {\n",
              "  _uploadFiles,\n",
              "  _uploadFilesContinue,\n",
              "};\n",
              "})(self);\n",
              "</script> "
            ]
          },
          "metadata": {}
        },
        {
          "output_type": "stream",
          "name": "stdout",
          "text": [
            "Saving test.csv to test.csv\n"
          ]
        }
      ]
    },
    {
      "cell_type": "code",
      "source": [
        "dataset_test = pd.read_csv('test.csv')\n",
        "real_stock_price = dataset_test.iloc[:, 1:2].values"
      ],
      "metadata": {
        "id": "nJ-dHKcVek0E"
      },
      "execution_count": 9,
      "outputs": []
    },
    {
      "cell_type": "markdown",
      "source": [
        "### Prediction on test data\n",
        "Since we use 60 previous trading days data for prediction. For predicting the first data in the testing set the last 60 days of the training data is used. Hence, in this way a sliding window is created and a prediction for each day in testing duration is predicted.\n",
        "\n",
        "An extra day was added in the end for cross checking with the value on the day of this experiment being done (22nd December 2022)."
      ],
      "metadata": {
        "id": "kpdisXyHIB8P"
      }
    },
    {
      "cell_type": "code",
      "source": [
        "dataset_total = pd.concat((train['Open'], dataset_test['Open']), axis = 0)\n",
        "inputs = dataset_total[len(dataset_total) - len(dataset_test) - 60:].values\n",
        "inputs = inputs.reshape(-1,1)\n",
        "inputs = sc.transform(inputs)\n",
        "X_test = []\n",
        "for i in range(60,len(inputs)+1):\n",
        "    X_test.append(inputs[i-60:i, 0])\n",
        "X_test = np.array(X_test)\n",
        "X_test = np.reshape(X_test, (X_test.shape[0], X_test.shape[1], 1))\n",
        "predicted_stock_price = regressor.predict(X_test)\n",
        "predicted_stock_price = sc.inverse_transform(predicted_stock_price)"
      ],
      "metadata": {
        "colab": {
          "base_uri": "https://localhost:8080/"
        },
        "id": "sASOYstIeuU4",
        "outputId": "6621a593-bb8a-4504-8c32-cd563dbff0eb"
      },
      "execution_count": 33,
      "outputs": [
        {
          "output_type": "stream",
          "name": "stdout",
          "text": [
            "2/2 [==============================] - 0s 37ms/step\n"
          ]
        }
      ]
    },
    {
      "cell_type": "markdown",
      "source": [
        "### Comparison against the actual data"
      ],
      "metadata": {
        "id": "igSk1oCKMDJK"
      }
    },
    {
      "cell_type": "code",
      "source": [
        "import matplotlib.pyplot as plt\n",
        "plt.plot(real_stock_price, color = 'black', label = 'Reliance Industries stock price')\n",
        "plt.plot(predicted_stock_price, color = 'red', label = 'Predicted RIL Stock Price')\n",
        "plt.title('RIL Stock Price Prediction')\n",
        "plt.xlabel('Time')\n",
        "plt.ylabel('RIL Stock Price')\n",
        "plt.grid('True')\n",
        "plt.legend()\n",
        "plt.show()"
      ],
      "metadata": {
        "colab": {
          "base_uri": "https://localhost:8080/",
          "height": 295
        },
        "id": "fksjhwcCisJ2",
        "outputId": "ac0bed61-925a-433e-d70a-70131ed1ec9d"
      },
      "execution_count": 36,
      "outputs": [
        {
          "output_type": "display_data",
          "data": {
            "text/plain": [
              "<Figure size 432x288 with 1 Axes>"
            ],
            "image/png": "[encoded data removed]"
          },
          "metadata": {
            "needs_background": "light"
          }
        }
      ]
    },
    {
      "cell_type": "markdown",
      "source": [
        "### Prediction for the current date (22nd December 2022)"
      ],
      "metadata": {
        "id": "hpsTV11QMnaH"
      }
    },
    {
      "cell_type": "code",
      "source": [
        "predicted_stock_price[-1]"
      ],
      "metadata": {
        "colab": {
          "base_uri": "https://localhost:8080/"
        },
        "id": "2iGC-GK0i2HD",
        "outputId": "884944ca-96a4-464f-975a-e1529a5f8f59"
      },
      "execution_count": 35,
      "outputs": [
        {
          "output_type": "execute_result",
          "data": {
            "text/plain": [
              "array([2608.993], dtype=float32)"
            ]
          },
          "metadata": {},
          "execution_count": 35
        }
      ]
    },
    {
      "cell_type": "markdown",
      "source": [
        "Actual Value :RIL Rs 2598 (9:15 AM IST 22nd December 2022)\n",
        "\n",
        "Predicted Value : Rs 2609\n",
        "\n",
        "Error : 0.42%"
      ],
      "metadata": {
        "id": "UVRSDuQXMu7w"
      }
    }
  ]
}